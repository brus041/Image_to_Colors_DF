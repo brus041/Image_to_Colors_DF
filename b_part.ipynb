{
 "cells": [
  {
   "cell_type": "code",
   "execution_count": 23,
   "source": [
    "# dependencies\n",
    "import numpy as np \n",
    "import matplotlib.pyplot as plt\n",
    "import pandas as pd\n",
    "from sklearn.cluster import KMeans\n",
    "import cv2\n",
    "import os \n",
    "import requests\n",
    "from math import floor"
   ],
   "outputs": [],
   "metadata": {}
  },
  {
   "cell_type": "code",
   "execution_count": 112,
   "source": [
    "# Read in video game data set and get urls\n",
    "df = pd.read_csv(\"data.csv\")\n",
    "URLS = list(df['background_image'])\n",
    "len(URLS)"
   ],
   "outputs": [
    {
     "output_type": "execute_result",
     "data": {
      "text/plain": [
       "100000"
      ]
     },
     "metadata": {},
     "execution_count": 112
    }
   ],
   "metadata": {}
  },
  {
   "cell_type": "code",
   "execution_count": 113,
   "source": [
    "# Function does the following work flow:\n",
    "# --------------------------------------\n",
    "# scrape image\n",
    "# imsave the image\n",
    "# read the image with cv2\n",
    "# do the thing on the image with function\n",
    "# delete the image with os.remove()\n",
    "# --------------------------------------\n",
    "\n",
    "def centroids_from_image_url(url,num_clusters):\n",
    "    \n",
    "    # read in our image from online and download to local computer\n",
    "    r = requests.get(url, allow_redirects=True)\n",
    "    open(\"image_from_internet.jpg\", 'wb').write(r.content)\n",
    "\n",
    "    # read in image for processing\n",
    "    image = cv2.imread(\"image_from_internet.jpg\")\n",
    "    im_rgb = cv2.cvtColor(image,cv2.COLOR_BGR2RGB)\n",
    "    \n",
    "    # SCALE IMAGE\n",
    "    mat = cv2.resize(im_rgb, dsize = (60,60))\n",
    "\n",
    "    # reshape image to pass into K Means \n",
    "    img = mat.reshape((mat.shape[0]*mat.shape[1],3))\n",
    "\n",
    "    # apply kmeans to reshaped image\n",
    "    km = KMeans(n_clusters = num_clusters)\n",
    "    km_to_im = km.fit(img)\n",
    "\n",
    "    # get the clusters\n",
    "    # labels=list(km.labels_)\n",
    "    centroids = km.cluster_centers_\n",
    "    os.remove(\"image_from_internet.jpg\")\n",
    "\n",
    "    return centroids"
   ],
   "outputs": [],
   "metadata": {}
  },
  {
   "cell_type": "code",
   "execution_count": 114,
   "source": [
    "# compute centroids column\n",
    "centroids_col = [centroids_from_image_url(im_url,5) for im_url in URLS]"
   ],
   "outputs": [],
   "metadata": {}
  },
  {
   "cell_type": "code",
   "execution_count": 108,
   "source": [
    "# split into dominant colors to put into data frame \n",
    "color_1 = [color[0] for color in centroids_col]\n",
    "color_2 = [color[1] for color in centroids_col]\n",
    "color_3 = [color[2] for color in centroids_col]\n",
    "color_4 = [color[3] for color in centroids_col]\n",
    "color_5 = [color[4] for color in centroids_col]\n",
    "color_1[17]"
   ],
   "outputs": [
    {
     "output_type": "execute_result",
     "data": {
      "text/plain": [
       "array([249.87259723, 248.93786321, 248.74608851])"
      ]
     },
     "metadata": {},
     "execution_count": 108
    }
   ],
   "metadata": {}
  },
  {
   "cell_type": "code",
   "execution_count": 109,
   "source": [
    "# need to bin by color value \n",
    "# red bin\n",
    "# if red value is largest\n",
    "# yellow/orange/brown bin\n",
    "# red and green are both larger than blue\n",
    "# green bin\n",
    "# if green value is largest\n",
    "# blue bin\n",
    "# if blue value is largest\n",
    "# black bin\n",
    "# if all values less than .05\n",
    "# purple bin\n",
    "# red and blue are both larger than green\n",
    "# white bin\n",
    "# if all values are greater than .95\n",
    "# grey bin\n",
    "# if all values are the same \n",
    "def rgb2color(color_list):\n",
    "    n = len(color_list)\n",
    "    grey_cut_off = 3\n",
    "    black_cut_off = 60\n",
    "    white_cut_off = 240\n",
    "    \n",
    "    for i in range(n):\n",
    "        # generalize very common colors first, being black,white,grey\n",
    "        if floor(color_list[i][0]) < black_cut_off and floor(color_list[i][1]) < black_cut_off and floor(color_list[i][2]) < black_cut_off:\n",
    "            color_list[i] = \"Black\"\n",
    "        elif floor(color_list[i][0]) > white_cut_off and floor(color_list[i][1]) > white_cut_off and floor(color_list[i][2]) > white_cut_off:\n",
    "            color_list[i] = \"White\"\n",
    "        elif floor(color_list[i][2]) == floor(color_list[i][0]) and floor(color_list[i][0]) == floor(color_list[i][2]) and floor(color_list[i][1]) == floor(color_list[i][2]):\n",
    "            color_list[i] = \"Grey\"\n",
    "        elif abs(floor(color_list[i][0])-floor(color_list[i][1])) <= grey_cut_off or abs(floor(color_list[i][0])-floor(color_list[i][2])) <= grey_cut_off or abs(floor(color_list[i][1])-floor(color_list[i][2])) <= grey_cut_off:\n",
    "            color_list[i] = \"Grey\"\n",
    "        \n",
    "        # generalize primary colors \n",
    "        elif floor(color_list[i][1]) > floor(color_list[i][0]) and floor(color_list[i][1]) > floor(color_list[i][2]):\n",
    "            color_list[i] = \"Green/Blue Green/Aqua\"\n",
    "        # elif floor(color_list[i][1]) > floor(color_list[i][0]) and floor(color_list[i][1]) > floor(color_list[i][2]):\n",
    "        #     color_list[i] = \"Blue Green/Aqua\"\n",
    "        elif floor(color_list[i][0]) > floor(color_list[i][2]) and floor(color_list[i][1]) > floor(color_list[i][2]) and floor(color_list[i][0]) > floor(color_list[i][1]):\n",
    "            color_list[i] = \"Orange/Yellow/Brown\"\n",
    "        elif floor(color_list[i][0]) > floor(color_list[i][1]) and floor(color_list[i][0]) > floor(color_list[i][2]):\n",
    "            color_list[i] = \"Red/Pink\"\n",
    "        elif floor(color_list[i][0]) > floor(color_list[i][1]) and floor(color_list[i][2]) > floor(color_list[i][1]):\n",
    "            color_list[i] = \"Purple\"\n",
    "        elif floor(color_list[i][2]) > floor(color_list[i][0]) and floor(color_list[i][2]) > floor(color_list[i][1]):\n",
    "            color_list[i] = \"Blue\"\n",
    "        \n",
    "    return color_list"
   ],
   "outputs": [],
   "metadata": {}
  },
  {
   "cell_type": "code",
   "execution_count": 110,
   "source": [
    "color_1_string = rgb2color(color_1)\n",
    "color_2_string = rgb2color(color_2)\n",
    "color_3_string = rgb2color(color_3)\n",
    "color_4_string = rgb2color(color_4)\n",
    "color_5_string = rgb2color(color_5)\n"
   ],
   "outputs": [],
   "metadata": {}
  },
  {
   "cell_type": "code",
   "execution_count": 111,
   "source": [
    "\n",
    "top_5_colors_df = pd.DataFrame({'Color_1':color_1_string,'Color_2':color_2_string,'Color_3':color_3_string,'Color_4':color_4_string,'Color_5':color_5_string})\n",
    "d = top_5_colors_df.values\n",
    "np.unique(d)"
   ],
   "outputs": [
    {
     "output_type": "execute_result",
     "data": {
      "text/plain": [
       "array(['Black', 'Blue', 'Green/Blue Green/Aqua', 'Grey',\n",
       "       'Orange/Yellow/Brown', 'Purple', 'Red/Pink', 'White'], dtype=object)"
      ]
     },
     "metadata": {},
     "execution_count": 111
    }
   ],
   "metadata": {}
  }
 ],
 "metadata": {
  "orig_nbformat": 4,
  "language_info": {
   "name": "python",
   "version": "3.8.3",
   "mimetype": "text/x-python",
   "codemirror_mode": {
    "name": "ipython",
    "version": 3
   },
   "pygments_lexer": "ipython3",
   "nbconvert_exporter": "python",
   "file_extension": ".py"
  },
  "kernelspec": {
   "name": "python3",
   "display_name": "Python 3.8.3 64-bit ('base': conda)"
  },
  "interpreter": {
   "hash": "3b2f14ec1f892092573c23443df090b391e6e47fc55f5484814ef358ce94a7e6"
  }
 },
 "nbformat": 4,
 "nbformat_minor": 2
}